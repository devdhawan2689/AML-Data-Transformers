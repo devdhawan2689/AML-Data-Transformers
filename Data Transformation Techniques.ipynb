{
 "cells": [
  {
   "cell_type": "markdown",
   "id": "837080e6",
   "metadata": {},
   "source": [
    "## Importing Modules"
   ]
  },
  {
   "cell_type": "code",
   "execution_count": 1,
   "id": "dc716fd3",
   "metadata": {},
   "outputs": [],
   "source": [
    "import pandas as pd\n",
    "import numpy as np\n",
    "import matplotlib.pyplot as plt\n",
    "import warnings\n",
    "warnings.filterwarnings('ignore') "
   ]
  },
  {
   "cell_type": "markdown",
   "id": "15f319d7",
   "metadata": {},
   "source": [
    "# Function Transformers "
   ]
  },
  {
   "cell_type": "markdown",
   "id": "c1adb68d",
   "metadata": {},
   "source": [
    "## Log Transformation"
   ]
  },
  {
   "cell_type": "code",
   "execution_count": 2,
   "id": "90bb9b42",
   "metadata": {},
   "outputs": [],
   "source": [
    "#make this example reproducible\n",
    "np.random.seed(0)\n",
    "\n",
    "#create beta distributed random variable with 200 values\n",
    "data = np.random.beta(a=4, b=15, size=300)\n",
    "\n",
    "#create log-transformed data\n",
    "data_log = np.log(data)"
   ]
  },
  {
   "cell_type": "code",
   "execution_count": 3,
   "id": "fe421ece",
   "metadata": {
    "scrolled": true
   },
   "outputs": [
    {
     "data": {
      "text/plain": [
       "array([0.33500995, 0.43164659, 0.17566018, 0.26024996, 0.2228906 ,\n",
       "       0.34554031, 0.03504304, 0.50466759, 0.26157317, 0.21044716,\n",
       "       0.24923105, 0.16866343, 0.17532034, 0.08950696, 0.11982994,\n",
       "       0.18081162, 0.16231937, 0.20493599, 0.07543357, 0.25705616,\n",
       "       0.26916879, 0.17247234, 0.0917212 , 0.32698623, 0.314534  ,\n",
       "       0.12921298, 0.20024248, 0.1940494 , 0.08477519, 0.19644552,\n",
       "       0.31657696, 0.15031079, 0.2119455 , 0.29025744, 0.17332851,\n",
       "       0.11201222, 0.12394456, 0.12899941, 0.29185698, 0.1881788 ,\n",
       "       0.10121608, 0.13715135, 0.22102443, 0.12584295, 0.10677733,\n",
       "       0.08957373, 0.17843215, 0.26457035, 0.10389428, 0.16076094,\n",
       "       0.23241698, 0.34845572, 0.11502733, 0.09795758, 0.25357618,\n",
       "       0.34056226, 0.14329336, 0.25809673, 0.13342118, 0.15886293,\n",
       "       0.27533797, 0.10460863, 0.21672044, 0.23407856, 0.29516348,\n",
       "       0.18087165, 0.29768723, 0.24729876, 0.2655703 , 0.13791356,\n",
       "       0.26841048, 0.13256181, 0.35455734, 0.28425268, 0.29730019,\n",
       "       0.2302328 , 0.14094266, 0.21158055, 0.29649001, 0.43074146,\n",
       "       0.40392936, 0.34440824, 0.10002591, 0.11674129, 0.27087786,\n",
       "       0.23721773, 0.19876768, 0.08599017, 0.19221339, 0.3168594 ,\n",
       "       0.21060439, 0.18039103, 0.17174188, 0.20357634, 0.24497492,\n",
       "       0.17064327, 0.19366475, 0.19035166, 0.12119428, 0.19160312,\n",
       "       0.2499125 , 0.11153672, 0.17599952, 0.21205096, 0.22975223,\n",
       "       0.22571429, 0.09498789, 0.15670804, 0.13415979, 0.23136143,\n",
       "       0.05683148, 0.2300558 , 0.06954752, 0.33577212, 0.17758659,\n",
       "       0.19597372, 0.27848667, 0.1952228 , 0.19445504, 0.30277658,\n",
       "       0.25682987, 0.23412577, 0.18735608, 0.1896501 , 0.21780328,\n",
       "       0.09254164, 0.22524348, 0.17320777, 0.24620147, 0.19743853,\n",
       "       0.09683505, 0.04853451, 0.20709355, 0.37135564, 0.21999024,\n",
       "       0.45560528, 0.30452311, 0.18735479, 0.23474916, 0.44708295,\n",
       "       0.12443463, 0.30991771, 0.1246356 , 0.21569782, 0.14209185,\n",
       "       0.15908452, 0.10124754, 0.2648486 , 0.03918724, 0.30505484,\n",
       "       0.1857032 , 0.28021639, 0.18602944, 0.34174619, 0.29737154,\n",
       "       0.11064589, 0.12102291, 0.31418482, 0.1365393 , 0.1800013 ,\n",
       "       0.1734851 , 0.17764437, 0.07912322, 0.09551772, 0.16577257,\n",
       "       0.22658571, 0.21325526, 0.17005262, 0.08039206, 0.1120242 ,\n",
       "       0.22686773, 0.21231634, 0.20481391, 0.27870822, 0.2226464 ,\n",
       "       0.19538509, 0.25846685, 0.1219736 , 0.14538475, 0.35035564,\n",
       "       0.29461637, 0.36280431, 0.20006052, 0.20936694, 0.1724385 ,\n",
       "       0.18916538, 0.05894761, 0.08481849, 0.10191006, 0.12000994,\n",
       "       0.28896773, 0.12239041, 0.14288277, 0.20460153, 0.1744171 ,\n",
       "       0.10886934, 0.28412914, 0.12438466, 0.15483958, 0.15260264,\n",
       "       0.18859577, 0.1066046 , 0.24252227, 0.19129936, 0.586358  ,\n",
       "       0.32090127, 0.14666816, 0.12377291, 0.06844701, 0.17164399,\n",
       "       0.29642047, 0.2837982 , 0.26172329, 0.1907862 , 0.1591605 ,\n",
       "       0.12354738, 0.20866948, 0.30410278, 0.23405473, 0.23089366,\n",
       "       0.23711163, 0.31251353, 0.08653022, 0.22481695, 0.33069761,\n",
       "       0.1546187 , 0.17198877, 0.40502258, 0.20239113, 0.23990878,\n",
       "       0.14220925, 0.3804914 , 0.28504656, 0.25258747, 0.18668893,\n",
       "       0.34755891, 0.18550094, 0.21807046, 0.15067615, 0.13085634,\n",
       "       0.21365591, 0.21337843, 0.1825607 , 0.12865939, 0.11791791,\n",
       "       0.07410659, 0.15002037, 0.18238867, 0.32018285, 0.43574744,\n",
       "       0.1283713 , 0.13461455, 0.24064677, 0.13496744, 0.13164423,\n",
       "       0.26696011, 0.24837365, 0.31082706, 0.38816803, 0.25130087,\n",
       "       0.19125525, 0.17000453, 0.40090897, 0.14533678, 0.31959076,\n",
       "       0.20040802, 0.14272026, 0.13870861, 0.14904984, 0.31000647,\n",
       "       0.16788524, 0.25826418, 0.34783975, 0.12263231, 0.23018146,\n",
       "       0.25724909, 0.24176474, 0.20279661, 0.29684408, 0.18739206,\n",
       "       0.19923749, 0.19452672, 0.09495844, 0.40005356, 0.12372472,\n",
       "       0.22707388, 0.14980734, 0.14056064, 0.18154347, 0.27303765,\n",
       "       0.06595829, 0.27572509, 0.17907224, 0.13558095, 0.37553118,\n",
       "       0.30079024, 0.10510204, 0.21980973, 0.23853917, 0.0936603 ])"
      ]
     },
     "execution_count": 3,
     "metadata": {},
     "output_type": "execute_result"
    }
   ],
   "source": [
    "data"
   ]
  },
  {
   "cell_type": "code",
   "execution_count": 4,
   "id": "cb5eed2e",
   "metadata": {
    "scrolled": true
   },
   "outputs": [
    {
     "data": {
      "text/plain": [
       "array([-1.09359504, -0.84014811, -1.73920393, -1.34611273, -1.50107421,\n",
       "       -1.06264597, -3.3511784 , -0.6838553 , -1.34104122, -1.55852066,\n",
       "       -1.3893749 , -1.77985011, -1.74114046, -2.41343891, -2.12168171,\n",
       "       -1.71029954, -1.81818946, -1.5850576 , -2.58450286, -1.35846068,\n",
       "       -1.31241663, -1.75751842, -2.38900178, -1.11783723, -1.15666309,\n",
       "       -2.04629323, -1.60822624, -1.6396425 , -2.46775237, -1.62737014,\n",
       "       -1.1501889 , -1.89505019, -1.55142611, -1.23698701, -1.75256661,\n",
       "       -2.18914729, -2.08792093, -2.04794748, -1.23149138, -1.67036272,\n",
       "       -2.2904976 , -1.9866702 , -1.50948204, -2.07272059, -2.23700961,\n",
       "       -2.41269316, -1.72354688, -1.32964809, -2.26438144, -1.82783688,\n",
       "       -1.45922219, -1.05424411, -2.16258552, -2.32322075, -1.372091  ,\n",
       "       -1.07715734, -1.94286125, -1.35442084, -2.01424439, -1.83971351,\n",
       "       -1.28975596, -2.25752926, -1.52914703, -1.4520985 , -1.22022592,\n",
       "       -1.7099676 , -1.21171192, -1.39715812, -1.32587568, -1.98112818,\n",
       "       -1.31523782, -2.02070622, -1.03688521, -1.25789172, -1.21301292,\n",
       "       -1.46866432, -1.95940217, -1.55314951, -1.21574176, -0.84224723,\n",
       "       -0.90651527, -1.06592759, -2.30232604, -2.14779498, -1.30608728,\n",
       "       -1.43877686, -1.6156186 , -2.45352233, -1.64914914, -1.14929713,\n",
       "       -1.55777382, -1.71262841, -1.76176262, -1.59171421, -1.40659943,\n",
       "       -1.76818006, -1.6416267 , -1.6588821 , -2.11036038, -1.65232912,\n",
       "       -1.38664444, -2.19340138, -1.737274  , -1.55092865, -1.4707538 ,\n",
       "       -1.48848527, -2.35400592, -1.8533708 , -2.00872372, -1.46377415,\n",
       "       -2.8676649 , -1.46943338, -2.66574504, -1.09132255, -1.72829697,\n",
       "       -1.62977469, -1.2783851 , -1.63361382, -1.6375543 , -1.19476012,\n",
       "       -1.3593414 , -1.45189683, -1.6747443 , -1.66257448, -1.52416299,\n",
       "       -2.38009663, -1.49057331, -1.75326341, -1.4016051 , -1.622328  ,\n",
       "       -2.33474626, -3.02548019, -1.57458465, -0.99059509, -1.51417208,\n",
       "       -0.78612845, -1.18900829, -1.6747512 , -1.44923775, -0.80501113,\n",
       "       -2.08397472, -1.17144847, -2.08236099, -1.53387682, -1.95128161,\n",
       "       -1.83831965, -2.29018686, -1.32859695, -3.23940411, -1.18726372,\n",
       "       -1.6836056 , -1.27219317, -1.68185036, -1.07368694, -1.21277294,\n",
       "       -2.20142036, -2.11177545, -1.15777386, -1.99114278, -1.71479122,\n",
       "       -1.75166357, -1.72797166, -2.53674892, -2.34844346, -1.79713852,\n",
       "       -1.48463199, -1.54526543, -1.77164734, -2.52083985, -2.18904039,\n",
       "       -1.48338814, -1.54967797, -1.58565348, -1.27758986, -1.50217043,\n",
       "       -1.63278285, -1.35298782, -2.10395064, -1.9283716 , -1.04880652,\n",
       "       -1.22208121, -1.01389167, -1.60913536, -1.56366688, -1.75771462,\n",
       "       -1.66513363, -2.83110614, -2.46724176, -2.28366466, -2.12018073,\n",
       "       -1.24144024, -2.1005393 , -1.94573076, -1.58669096, -1.74630571,\n",
       "       -2.21760683, -1.25832644, -2.08437638, -1.86536567, -1.87991786,\n",
       "       -1.66814931, -2.23862858, -1.41666173, -1.65391574, -0.53382475,\n",
       "       -1.13662179, -1.91958266, -2.08930674, -2.68169541, -1.76233276,\n",
       "       -1.21597633, -1.25949186, -1.34046747, -1.65660183, -1.83784216,\n",
       "       -2.09113052, -1.5670037 , -1.19038955, -1.4522003 , -1.46579804,\n",
       "       -1.43922422, -1.1631075 , -2.44726152, -1.49246878, -1.10655089,\n",
       "       -1.86679317, -1.7603261 , -0.90381247, -1.59755315, -1.42749652,\n",
       "       -1.95045568, -0.96629172, -1.25510275, -1.37599768, -1.67831153,\n",
       "       -1.05682111, -1.68469531, -1.52293706, -1.89262243, -2.03365518,\n",
       "       -1.54338843, -1.54468801, -1.70067255, -2.05058675, -2.13776662,\n",
       "       -2.60225081, -1.89698419, -1.7016153 , -1.13886305, -0.83069247,\n",
       "       -2.0528284 , -2.00533975, -1.42442509, -2.0027217 , -2.02765226,\n",
       "       -1.32065602, -1.39282103, -1.1685186 , -0.94631696, -1.38110439,\n",
       "       -1.65414636, -1.77193022, -0.9140209 , -1.92870158, -1.14071396,\n",
       "       -1.60739989, -1.94686879, -1.97537985, -1.90347456, -1.17116209,\n",
       "       -1.78447462, -1.35377228, -1.0560134 , -2.09856473, -1.46888732,\n",
       "       -1.35771043, -1.41979019, -1.59555172, -1.21454825, -1.67455226,\n",
       "       -1.61325773, -1.63718577, -2.35431597, -0.91615683, -2.08969619,\n",
       "       -1.48247984, -1.89840522, -1.96211628, -1.70626017, -1.29814559,\n",
       "       -2.71873274, -1.28835095, -1.71996596, -1.99818641, -0.97941377,\n",
       "       -1.20134215, -2.25282361, -1.51499297, -1.43322176, -2.36808084])"
      ]
     },
     "execution_count": 4,
     "metadata": {},
     "output_type": "execute_result"
    }
   ],
   "source": [
    "data_log"
   ]
  },
  {
   "cell_type": "code",
   "execution_count": 5,
   "id": "268296a7",
   "metadata": {},
   "outputs": [
    {
     "data": {
      "image/png": "[encoded data removed]",
      "text/plain": [
       "<Figure size 432x288 with 2 Axes>"
      ]
     },
     "metadata": {
      "needs_background": "light"
     },
     "output_type": "display_data"
    }
   ],
   "source": [
    "#define grid of plots\n",
    "fig, axs = plt.subplots(nrows=1, ncols=2)\n",
    "\n",
    "#create histograms\n",
    "axs[0].hist(data, edgecolor='black')\n",
    "axs[1].hist(data_log, edgecolor='black')\n",
    "\n",
    "#add title to each histogram\n",
    "axs[0].set_title('Original Data')\n",
    "axs[1].set_title('Log-Transformed Data');"
   ]
  },
  {
   "cell_type": "markdown",
   "id": "9c77c413",
   "metadata": {},
   "source": [
    "## Reciprocal Transformer "
   ]
  },
  {
   "cell_type": "code",
   "execution_count": 6,
   "id": "1a929f09",
   "metadata": {},
   "outputs": [],
   "source": [
    "import matplotlib.pyplot as plt\n",
    "\n",
    "from sklearn.datasets import fetch_openml\n",
    "from sklearn.model_selection import train_test_split\n",
    "from feature_engine.transformation import ReciprocalTransformer"
   ]
  },
  {
   "cell_type": "code",
   "execution_count": 7,
   "id": "2bc1d4d8",
   "metadata": {},
   "outputs": [],
   "source": [
    "data = fetch_openml(name='house_prices', as_frame=True)"
   ]
  },
  {
   "cell_type": "code",
   "execution_count": 8,
   "id": "5fd36158",
   "metadata": {},
   "outputs": [
    {
     "name": "stdout",
     "output_type": "stream",
     "text": [
      "      GarageCars  GarageArea  sqrfootpercar\n",
      "1170           1         358          358.0\n",
      "330            1         352          352.0\n",
      "969            1         264          264.0\n",
      "726            2         540          270.0\n",
      "1308           2         528          264.0\n"
     ]
    }
   ],
   "source": [
    "data = data.frame\n",
    "\n",
    "data[\"sqrfootpercar\"] = data['GarageArea'] / data['GarageCars']\n",
    "data = data[~data[\"sqrfootpercar\"].isna()]\n",
    "\n",
    "y = data['SalePrice']\n",
    "X = data[['GarageCars', 'GarageArea', \"sqrfootpercar\"]]\n",
    "\n",
    "X_train, X_test, y_train, y_test = train_test_split(\n",
    "    X, y, test_size=0.2, random_state=42)\n",
    "\n",
    "print(X_train.head())"
   ]
  },
  {
   "cell_type": "code",
   "execution_count": 9,
   "id": "d42ce70d",
   "metadata": {},
   "outputs": [
    {
     "data": {
      "image/png": "[encoded data removed]",
      "text/plain": [
       "<Figure size 288x288 with 1 Axes>"
      ]
     },
     "metadata": {
      "needs_background": "light"
     },
     "output_type": "display_data"
    }
   ],
   "source": [
    "X_train[\"sqrfootpercar\"].hist(bins=50, figsize=(4,4))\n",
    "plt.title(\"sqrfootpercar\")\n",
    "plt.show() "
   ]
  },
  {
   "cell_type": "code",
   "execution_count": 10,
   "id": "e32c5a5d",
   "metadata": {},
   "outputs": [],
   "source": [
    "tf = ReciprocalTransformer(variables=\"sqrfootpercar\")\n",
    "\n",
    "train_t = tf.fit_transform(X_train)\n",
    "test_t = tf.transform(X_test)"
   ]
  },
  {
   "cell_type": "code",
   "execution_count": 11,
   "id": "0e9bf81a",
   "metadata": {},
   "outputs": [
    {
     "data": {
      "image/png": "[encoded data removed]",
      "text/plain": [
       "<Figure size 288x288 with 1 Axes>"
      ]
     },
     "metadata": {
      "needs_background": "light"
     },
     "output_type": "display_data"
    }
   ],
   "source": [
    "train_t[\"sqrfootpercar\"].hist(bins=50, figsize=(4,4))\n",
    "plt.title(\"sqrfootpercar\")\n",
    "plt.show()"
   ]
  },
  {
   "cell_type": "markdown",
   "id": "a2369ffa",
   "metadata": {},
   "source": [
    "## Square Root Transformation "
   ]
  },
  {
   "cell_type": "code",
   "execution_count": 12,
   "id": "889249d4",
   "metadata": {},
   "outputs": [
    {
     "data": {
      "image/png": "[encoded data removed]",
      "text/plain": [
       "<Figure size 432x288 with 2 Axes>"
      ]
     },
     "metadata": {
      "needs_background": "light"
     },
     "output_type": "display_data"
    }
   ],
   "source": [
    "#make this example reproducible\n",
    "np.random.seed(0)\n",
    "\n",
    "#create beta distributed random variable with 200 values\n",
    "data = np.random.beta(a=1, b=5, size=300)\n",
    "\n",
    "#create log-transformed data\n",
    "data_sqrt = np.sqrt(data)\n",
    "\n",
    "#define grid of plots\n",
    "fig, axs = plt.subplots(nrows=1, ncols=2)\n",
    "\n",
    "#create histograms\n",
    "axs[0].hist(data, edgecolor='black')\n",
    "axs[1].hist(data_log, edgecolor='black')\n",
    "\n",
    "#add title to each histogram\n",
    "axs[0].set_title('Original Data')\n",
    "axs[1].set_title('Square Root Transformed Data');"
   ]
  },
  {
   "cell_type": "code",
   "execution_count": null,
   "id": "2c0ca6f3",
   "metadata": {},
   "outputs": [],
   "source": []
  },
  {
   "cell_type": "code",
   "execution_count": null,
   "id": "90894107",
   "metadata": {},
   "outputs": [],
   "source": []
  }
 ],
 "metadata": {
  "kernelspec": {
   "display_name": "Python 3 (ipykernel)",
   "language": "python",
   "name": "python3"
  },
  "language_info": {
   "codemirror_mode": {
    "name": "ipython",
    "version": 3
   },
   "file_extension": ".py",
   "mimetype": "text/x-python",
   "name": "python",
   "nbconvert_exporter": "python",
   "pygments_lexer": "ipython3",
   "version": "3.8.10"
  }
 },
 "nbformat": 4,
 "nbformat_minor": 5
}
